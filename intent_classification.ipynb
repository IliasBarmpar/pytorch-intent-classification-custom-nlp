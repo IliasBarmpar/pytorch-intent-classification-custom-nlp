{
 "cells": [
  {
   "attachments": {},
   "cell_type": "markdown",
   "metadata": {},
   "source": [
    "# Initialization"
   ]
  },
  {
   "cell_type": "code",
   "execution_count": null,
   "metadata": {},
   "outputs": [],
   "source": [
    "!pip install torch\n",
    "!pip install nltk\n",
    "!pip install pandas\n",
    "!pip install tensorflow\n",
    "!pip install transformers\n",
    "!pip install matplotlib\n",
    "!pip install scikit-learn"
   ]
  },
  {
   "cell_type": "code",
   "execution_count": 1,
   "metadata": {},
   "outputs": [
    {
     "name": "stderr",
     "output_type": "stream",
     "text": [
      "c:\\Users\\ilias\\Desktop\\PycharmProjects\\uni\\aidl_cs01_nlp\\.venv\\Lib\\site-packages\\tqdm\\auto.py:21: TqdmWarning: IProgress not found. Please update jupyter and ipywidgets. See https://ipywidgets.readthedocs.io/en/stable/user_install.html\n",
      "  from .autonotebook import tqdm as notebook_tqdm\n",
      "[nltk_data] Downloading package stopwords to\n",
      "[nltk_data]     C:\\Users\\ilias\\AppData\\Roaming\\nltk_data...\n",
      "[nltk_data]   Package stopwords is already up-to-date!\n",
      "[nltk_data] Downloading package punkt to\n",
      "[nltk_data]     C:\\Users\\ilias\\AppData\\Roaming\\nltk_data...\n",
      "[nltk_data]   Package punkt is already up-to-date!\n"
     ]
    },
    {
     "data": {
      "text/plain": [
       "True"
      ]
     },
     "execution_count": 1,
     "metadata": {},
     "output_type": "execute_result"
    }
   ],
   "source": [
    "import re\n",
    "import nltk\n",
    "import torch\n",
    "import numpy as np\n",
    "import pandas as pd\n",
    "import torch.nn as nn\n",
    "import tensorflow as tf\n",
    "from transformers import AdamW\n",
    "import matplotlib.pyplot as plt\n",
    "from nltk.corpus import stopwords\n",
    "from sklearn.metrics import f1_score\n",
    "import torch.utils.data as data_utils\n",
    "from transformers import AutoTokenizer\n",
    "from transformers import get_scheduler\n",
    "from sklearn.model_selection import train_test_split\n",
    "from torch.utils.data import DataLoader, TensorDataset\n",
    "from transformers import AutoModelForSequenceClassification\n",
    "from sklearn.metrics import confusion_matrix, ConfusionMatrixDisplay\n",
    "nltk.download('stopwords')\n",
    "nltk.download('punkt') "
   ]
  },
  {
   "cell_type": "code",
   "execution_count": 2,
   "metadata": {},
   "outputs": [
    {
     "name": "stdout",
     "output_type": "stream",
     "text": [
      "absl-py==1.4.0\n",
      "asttokens==2.2.1\n",
      "astunparse==1.6.3\n",
      "backcall==0.2.0\n",
      "cachetools==5.3.1\n",
      "certifi==2023.5.7\n",
      "charset-normalizer==3.1.0\n",
      "click==8.1.4\n",
      "colorama==0.4.6\n",
      "comm==0.1.3\n",
      "contourpy==1.1.0\n",
      "cycler==0.11.0\n",
      "debugpy==1.6.7\n",
      "decorator==5.1.1\n",
      "executing==1.2.0\n",
      "filelock==3.12.2\n",
      "flatbuffers==23.5.26\n",
      "fonttools==4.40.0\n",
      "fsspec==2023.6.0\n",
      "gast==0.4.0\n",
      "google-auth==2.21.0\n",
      "google-auth-oauthlib==1.0.0\n",
      "google-pasta==0.2.0\n",
      "grpcio==1.56.0\n",
      "h5py==3.9.0\n",
      "huggingface-hub==0.16.2\n",
      "idna==3.4\n",
      "ipykernel==6.24.0\n",
      "ipython==8.14.0\n",
      "jedi==0.18.2\n",
      "Jinja2==3.1.2\n",
      "joblib==1.3.1\n",
      "jupyter_client==8.3.0\n",
      "jupyter_core==5.3.1\n",
      "keras==2.13.1\n",
      "kiwisolver==1.4.4\n",
      "libclang==16.0.0\n",
      "Markdown==3.4.3\n",
      "MarkupSafe==2.1.3\n",
      "matplotlib==3.7.2\n",
      "matplotlib-inline==0.1.6\n",
      "mpmath==1.3.0\n",
      "nest-asyncio==1.5.6\n",
      "networkx==3.1\n",
      "nltk==3.8.1\n",
      "numpy==1.24.3\n",
      "oauthlib==3.2.2\n",
      "opt-einsum==3.3.0\n",
      "packaging==23.1\n",
      "pandas==2.0.3\n",
      "parso==0.8.3\n",
      "pickleshare==0.7.5\n",
      "Pillow==10.0.0\n",
      "platformdirs==3.8.0\n",
      "prompt-toolkit==3.0.39\n",
      "protobuf==4.23.3\n",
      "psutil==5.9.5\n",
      "pure-eval==0.2.2\n",
      "pyasn1==0.5.0\n",
      "pyasn1-modules==0.3.0\n",
      "Pygments==2.15.1\n",
      "pyparsing==3.0.9\n",
      "python-dateutil==2.8.2\n",
      "pytz==2023.3\n",
      "pywin32==306\n",
      "PyYAML==6.0\n",
      "pyzmq==25.1.0\n",
      "regex==2023.6.3\n",
      "requests==2.31.0\n",
      "requests-oauthlib==1.3.1\n",
      "rsa==4.9\n",
      "safetensors==0.3.1\n",
      "scikit-learn==1.3.0\n",
      "scipy==1.11.1\n",
      "six==1.16.0\n",
      "stack-data==0.6.2\n",
      "sympy==1.12\n",
      "tensorboard==2.13.0\n",
      "tensorboard-data-server==0.7.1\n",
      "tensorflow==2.13.0\n",
      "tensorflow-estimator==2.13.0\n",
      "tensorflow-intel==2.13.0\n",
      "tensorflow-io-gcs-filesystem==0.31.0\n",
      "termcolor==2.3.0\n",
      "threadpoolctl==3.1.0\n",
      "tokenizers==0.13.3\n",
      "torch==2.0.1+cu118\n",
      "torchaudio==2.0.2+cu118\n",
      "torchvision==0.15.2+cu118\n",
      "tornado==6.3.2\n",
      "tqdm==4.65.0\n",
      "traitlets==5.9.0\n",
      "transformers==4.30.2\n",
      "typing_extensions==4.5.0\n",
      "tzdata==2023.3\n",
      "urllib3==1.26.16\n",
      "wcwidth==0.2.6\n",
      "Werkzeug==2.3.6\n",
      "wrapt==1.15.0\n"
     ]
    }
   ],
   "source": [
    "!pip freeze"
   ]
  },
  {
   "cell_type": "code",
   "execution_count": 3,
   "metadata": {},
   "outputs": [],
   "source": [
    "# # setting random seed\n",
    "seed = 42\n",
    "torch.manual_seed(seed)\n",
    "np.random.seed(seed)\n",
    "tf.random.set_seed(seed)"
   ]
  },
  {
   "cell_type": "code",
   "execution_count": 4,
   "metadata": {},
   "outputs": [
    {
     "data": {
      "text/plain": [
       "device(type='cuda', index=0)"
      ]
     },
     "execution_count": 4,
     "metadata": {},
     "output_type": "execute_result"
    }
   ],
   "source": [
    "device = torch.device(\"cuda:0\" if torch.cuda.is_available() else \"cpu\")\n",
    "device"
   ]
  },
  {
   "cell_type": "code",
   "execution_count": 4,
   "metadata": {},
   "outputs": [],
   "source": [
    "intents_to_links = {\n",
    "    'Curriculum' : 'https://aidl.uniwa.gr/programme-outline/',\n",
    "    'Fees': 'https://aidl.uniwa.gr/tuition-fees/',\n",
    "    'Invited': 'https://aidl.uniwa.gr/invited-lecturers-2/',\n",
    "    'Applications': 'https://aidl.uniwa.gr/applications/',\n",
    "    'Irrelevant': 'https://aidl.uniwa.gr/',\n",
    "    'Contact': 'https://aidl.uniwa.gr/contact/',\n",
    "    'Schedule': 'https://aidl.uniwa.gr/course-schedule/',\n",
    "    'Instructors': 'https://aidl.uniwa.gr/instructors/',\n",
    "    'Documents': 'https://aidl.uniwa.gr/mscdocuments/',\n",
    "    'Registry': 'https://aidl.uniwa.gr/student-registry/'\n",
    "} "
   ]
  },
  {
   "cell_type": "code",
   "execution_count": 5,
   "metadata": {},
   "outputs": [],
   "source": [
    "df = pd.read_csv('input/cs01_dataset.csv')\n",
    "\n",
    "df = df.sample(frac=1).reset_index(drop=True) \n",
    "df['label_id'] = df['Intent'].factorize()[0] \n",
    "\n",
    "labels = df['Intent'].unique()\n",
    "label_id_to_intent = dict(enumerate(labels))\n",
    "\n",
    "train, test = train_test_split(df, random_state=seed, test_size=0.2, shuffle=True)\n",
    "x_train = train['Question']\n",
    "x_test = test['Question']\n",
    "y_train = train['label_id']\n",
    "y_test = test['label_id'] "
   ]
  },
  {
   "attachments": {},
   "cell_type": "markdown",
   "metadata": {},
   "source": [
    "# Preprocessing for LSTM"
   ]
  },
  {
   "cell_type": "code",
   "execution_count": 6,
   "metadata": {},
   "outputs": [],
   "source": [
    "stop_words = stopwords.words('english')\n",
    "def preprocess(text):\n",
    "    text = nltk.word_tokenize(text.lower())             \n",
    "    text = [w for w in text if not w in stop_words]   \n",
    "    text = (\" \").join(text)                             \n",
    "    text = re.sub(r'[^a-z0-9A-Z_]',' ',text)         \n",
    "    text = re.sub(r\"\\s+\", r\" \", text).strip()          \n",
    "    return text\n",
    "\n",
    "x_train = x_train.apply(preprocess)\n",
    "x_test = x_test.apply(preprocess) "
   ]
  },
  {
   "cell_type": "code",
   "execution_count": 7,
   "metadata": {},
   "outputs": [],
   "source": [
    "n_words = 4\n",
    "word_to_counts = x_train.str.split(expand=True).stack().value_counts()\n",
    "word_2_index = {\"SOS\":0, \"EOS\":1, \"UNK\":2, \"PAD\":3}\n",
    "index_2_word = {0: \"SOS\", 1: \"EOS\", 2:\"UNK\", 3:\"PAD\"}\n",
    "most_freq_words = word_to_counts.index[:1000] \n",
    "\n",
    "def add_to_voc(text, word_2_index, index_2_word, most_freq_words, n_words):\n",
    "  for word in text.split(' '):\n",
    "    if word not in word_2_index:\n",
    "      if word in most_freq_words:\n",
    "        word_2_index[word] = n_words\n",
    "        index_2_word[n_words] = word\n",
    "        n_words += 1\n",
    "      else:\n",
    "        word_2_index[word] = word_2_index['UNK']\n",
    "  return word_2_index, index_2_word, n_words\n",
    "\n",
    "for i in x_train: \n",
    "  word_2_index, index_2_word, n_words = add_to_voc(i, word_2_index, index_2_word, most_freq_words,n_words)  "
   ]
  },
  {
   "cell_type": "code",
   "execution_count": 8,
   "metadata": {},
   "outputs": [],
   "source": [
    "def sentence_to_int(text): \n",
    "  text = nltk.word_tokenize(text.lower())\n",
    "  ints = [word_2_index['SOS']]\n",
    "  for word in text:\n",
    "    if word in word_2_index:\n",
    "      ints.append(word_2_index[word])\n",
    "    else:\n",
    "      ints.append(word_2_index['UNK'])\n",
    "  return ints\n",
    "  \n",
    "X_train = x_train.apply(sentence_to_int)\n",
    "X_test = x_test.apply(sentence_to_int) "
   ]
  },
  {
   "cell_type": "code",
   "execution_count": 9,
   "metadata": {},
   "outputs": [],
   "source": [
    "max_length = int(np.mean([len(x) for x in X_train])) + 3\n",
    "\n",
    "def remove_and_pad(text):\n",
    "  length = len(text)\n",
    "  if length >= max_length:\n",
    "    text = text[:max_length]\n",
    "    text.append(word_2_index['EOS'])\n",
    "  else:\n",
    "    text.append(word_2_index['EOS'])\n",
    "    diff = max_length-length\n",
    "    for _ in range(diff):\n",
    "      text.append(word_2_index['PAD'])\n",
    "  return text \n",
    "  \n",
    "X_train = X_train.apply(remove_and_pad)\n",
    "X_test = X_test.apply(remove_and_pad) "
   ]
  },
  {
   "cell_type": "code",
   "execution_count": 10,
   "metadata": {},
   "outputs": [],
   "source": [
    "train = np.zeros((len(x_train), 8))\n",
    "for i, seq in enumerate(X_train):\n",
    "  train[i,:] = seq\n",
    "  \n",
    "test = np.zeros((len(x_test), 8))\n",
    "for i, seq in enumerate(X_test):\n",
    "  test[i,:] = seq "
   ]
  },
  {
   "cell_type": "code",
   "execution_count": 11,
   "metadata": {},
   "outputs": [],
   "source": [
    "trainx = data_utils.TensorDataset(torch.from_numpy(train).to(torch.float32), torch.from_numpy(y_train.values).to(torch.float32))\n",
    "train_loader = data_utils.DataLoader(trainx, batch_size=32, shuffle=True)\n",
    "test_dataset = data_utils.TensorDataset(torch.from_numpy(test).to(torch.float32), torch.from_numpy(y_test.values).to(torch.float32))\n",
    "test_loader = data_utils.DataLoader(test_dataset, batch_size=32, shuffle=False) "
   ]
  },
  {
   "attachments": {},
   "cell_type": "markdown",
   "metadata": {},
   "source": [
    "# GloVe Init"
   ]
  },
  {
   "cell_type": "code",
   "execution_count": 12,
   "metadata": {},
   "outputs": [],
   "source": [
    "# Load the pre-trained GloVe embeddings\n",
    "embeddings_index = {}\n",
    "with open('glove.6B.100d.txt', encoding='utf8') as f:\n",
    "    for line in f:\n",
    "        values = line.split()\n",
    "        word = values[0]\n",
    "        coefs = np.asarray(values[1:], dtype='float32')\n",
    "        embeddings_index[word] = coefs  \n",
    "\n",
    "voc = n_words\n",
    "num_tokens = voc + 2\n",
    "embedding_dim = 100\n",
    "hits = 0\n",
    "misses = 0\n",
    "\n",
    "embedding_matrix = np.zeros((num_tokens, embedding_dim))\n",
    "for word, i in word_2_index.items():\n",
    "    embedding_vector = embeddings_index.get(word)\n",
    "    if embedding_vector is not None:\n",
    "        embedding_matrix[i] = embedding_vector\n",
    "        hits += 1\n",
    "    else:\n",
    "        misses += 1"
   ]
  },
  {
   "attachments": {},
   "cell_type": "markdown",
   "metadata": {},
   "source": [
    "# LSTM + GloVe"
   ]
  },
  {
   "cell_type": "code",
   "execution_count": 37,
   "metadata": {},
   "outputs": [],
   "source": [
    "class LSTMGPU(nn.Module):                                                  \n",
    "    def __init__(self, vocab_size, embedding_dim, hidden_size, num_layers, num_classes, glove, embedding_matrix):\n",
    "        super(LSTMGPU, self).__init__()\n",
    "        self.num_layers = num_layers\n",
    "        self.hidden_size = hidden_size\n",
    "        self.embedding = nn.Embedding(vocab_size, embedding_dim)\n",
    "        if glove:\n",
    "            self.embedding.weight = nn.Parameter(torch.tensor(embedding_matrix, dtype=torch.float32))\n",
    "            self.embedding.weight.requires_grad = False\n",
    "        self.lstm1 = nn.LSTM(embedding_dim, hidden_size, 1, batch_first=True, dropout=0.2)\n",
    "        self.lstm2 = nn.LSTM(hidden_size, hidden_size, 1, batch_first=True, dropout=0.2)\n",
    "        self.fc = nn.Linear(hidden_size, num_classes)\n",
    "        self.dropout = nn.Dropout(0.5)\n",
    "        self.to(device)\n",
    "\n",
    "    def forward(self, x): \n",
    "        x = x.to(device)\n",
    "        embedded = self.embedding(x.type(torch.LongTensor).to(\"cuda\"))\n",
    "        out1, (hidden1, cell1) = self.lstm1(embedded)\n",
    "        out2, (hidden2, cell12) = self.lstm2(hidden1)\n",
    "        out2 = self.dropout(out2.contiguous().view(-1, self.hidden_size) )\n",
    "        output = self.fc(out2.contiguous().view(-1, self.hidden_size) )\n",
    "        return output"
   ]
  },
  {
   "cell_type": "code",
   "execution_count": 38,
   "metadata": {},
   "outputs": [],
   "source": [
    "def my_func(n_wor, emb_dim, hid_size, num_lay, num_class, glv, emb_matrix):\n",
    "    model = LSTMGPU(n_wor, emb_dim, hid_size, num_lay, num_class, glv, emb_matrix)\n",
    "\n",
    "    # Loss and optimizer\n",
    "    criterion = nn.CrossEntropyLoss()\n",
    "    optimizer = torch.optim.Adam(model.parameters(), lr=0.001)  \n",
    "    num_training_steps = 100 * len(train_loader)\n",
    "    lr_scheduler = get_scheduler(\n",
    "        \"linear\",\n",
    "        optimizer=optimizer,\n",
    "        num_warmup_steps=0,\n",
    "        num_training_steps=num_training_steps,\n",
    "    )\n",
    "\n",
    "    # Train the model\n",
    "    losses = []\n",
    "    model.train()\n",
    "    n_total_steps = len(train_loader)\n",
    "    for epoch in range(100):\n",
    "        for i, (inputs, labels) in enumerate(train_loader):  \n",
    "            inputs = inputs.to(device)\n",
    "            labels = labels.to(device)\n",
    "\n",
    "            # Forward pass\n",
    "            outputs = model(inputs)\n",
    "            loss = criterion(outputs, labels.long())\n",
    "            \n",
    "            loss.backward()\n",
    "            optimizer.step()\n",
    "            lr_scheduler.step()\n",
    "            optimizer.zero_grad()\n",
    "            \n",
    "            if (i+1) % 6 == 0:\n",
    "                #print (f'Epoch [{epoch+1}/{30}], Step [{i+1}/{n_total_steps}], Loss: {loss.item():.4f}', end=\"\")\n",
    "                print('\\rEpoch [{}/{}]\\t, Step: [{}/{}], Loss: {:.4f}'.format(epoch+1, 100, i+1, n_total_steps, loss.item()), end=\"\")\n",
    "\n",
    "            # Save the loss\n",
    "            losses.append(loss.item())\n",
    "    \n",
    "    return model"
   ]
  },
  {
   "cell_type": "code",
   "execution_count": 39,
   "metadata": {},
   "outputs": [
    {
     "name": "stdout",
     "output_type": "stream",
     "text": [
      "Epoch [100/100]\t, Step: [108/113], Loss: 0.0018"
     ]
    }
   ],
   "source": [
    "model_LSTM = my_func(n_words, 100, 64, 4, 10, 0, None) "
   ]
  },
  {
   "cell_type": "code",
   "execution_count": 16,
   "metadata": {},
   "outputs": [
    {
     "name": "stdout",
     "output_type": "stream",
     "text": [
      "Epoch [100/100]\t, Step: [108/113], Loss: 0.0059"
     ]
    }
   ],
   "source": [
    "model_LSTM_GloVe = my_func(n_words, 100, 64, 4, 10, 1, embedding_matrix) "
   ]
  },
  {
   "cell_type": "code",
   "execution_count": 17,
   "metadata": {},
   "outputs": [
    {
     "name": "stdout",
     "output_type": "stream",
     "text": [
      " Test F1 Score: 0.8054\n"
     ]
    }
   ],
   "source": [
    "# F1 score\n",
    "# Evaluate the model on the test data\n",
    "y_true = []\n",
    "y_pred = []\n",
    "model_LSTM.eval()\n",
    "with torch.no_grad():\n",
    "    for inputs, labels in test_loader:\n",
    "        outputs = model_LSTM(inputs)\n",
    "        _, predicted = torch.max(outputs.data, 1)\n",
    "        y_true.extend(labels.tolist())\n",
    "        y_pred.extend(predicted.tolist())\n",
    "f1 = f1_score(y_true, y_pred, average='macro')\n",
    "print(' Test F1 Score: {:.4f}'.format(f1))"
   ]
  },
  {
   "cell_type": "code",
   "execution_count": 18,
   "metadata": {},
   "outputs": [
    {
     "name": "stdout",
     "output_type": "stream",
     "text": [
      " Test F1 Score: 0.7945\n"
     ]
    }
   ],
   "source": [
    "# F1 score\n",
    "# Evaluate the model on the test data\n",
    "y_true = []\n",
    "y_pred = []\n",
    "model_LSTM_GloVe.eval()\n",
    "with torch.no_grad():\n",
    "    for inputs, labels in test_loader:\n",
    "        outputs = model_LSTM_GloVe(inputs)\n",
    "        _, predicted = torch.max(outputs.data, 1)\n",
    "        y_true.extend(labels.tolist())\n",
    "        y_pred.extend(predicted.tolist())\n",
    "f1 = f1_score(y_true, y_pred, average='macro')\n",
    "print(' Test F1 Score: {:.4f}'.format(f1))"
   ]
  },
  {
   "attachments": {},
   "cell_type": "markdown",
   "metadata": {},
   "source": [
    "# Transformers"
   ]
  },
  {
   "cell_type": "code",
   "execution_count": 19,
   "metadata": {},
   "outputs": [],
   "source": [
    "checkpoint = \"albert-base-v2\"\n",
    "# checkpoint = \"roberta-base\"\n",
    "# checkpoint = \"bert-base-uncased\"\n",
    "tokenizer = AutoTokenizer.from_pretrained(checkpoint)\n",
    "\n",
    "# encoding data to input format for BERT\n",
    "def encode(sentence):\n",
    "    return tokenizer.encode(sentence, add_special_tokens=True,padding='max_length', max_length=20, truncation=True)\n",
    "\n",
    "train_encoded = [encode(s) for s in x_train.values]\n",
    "train_inputs = torch.tensor(train_encoded)\n",
    "train_labels = torch.tensor(y_train.values)\n",
    "train_dataset = TensorDataset(train_inputs, train_labels)\n",
    "\n",
    "test_encoded = [encode(s) for s in x_test.values]\n",
    "test_inputs = torch.tensor(test_encoded)\n",
    "test_labels = torch.tensor(y_test.values)\n",
    "test_dataset = TensorDataset(test_inputs, test_labels)"
   ]
  },
  {
   "cell_type": "code",
   "execution_count": 20,
   "metadata": {},
   "outputs": [
    {
     "name": "stderr",
     "output_type": "stream",
     "text": [
      "Some weights of the model checkpoint at albert-base-v2 were not used when initializing AlbertForSequenceClassification: ['predictions.bias', 'predictions.decoder.weight', 'predictions.LayerNorm.weight', 'predictions.dense.bias', 'predictions.dense.weight', 'predictions.decoder.bias', 'predictions.LayerNorm.bias']\n",
      "- This IS expected if you are initializing AlbertForSequenceClassification from the checkpoint of a model trained on another task or with another architecture (e.g. initializing a BertForSequenceClassification model from a BertForPreTraining model).\n",
      "- This IS NOT expected if you are initializing AlbertForSequenceClassification from the checkpoint of a model that you expect to be exactly identical (initializing a BertForSequenceClassification model from a BertForSequenceClassification model).\n",
      "Some weights of AlbertForSequenceClassification were not initialized from the model checkpoint at albert-base-v2 and are newly initialized: ['classifier.bias', 'classifier.weight']\n",
      "You should probably TRAIN this model on a down-stream task to be able to use it for predictions and inference.\n"
     ]
    }
   ],
   "source": [
    "model = AutoModelForSequenceClassification.from_pretrained(checkpoint, num_labels=10)\n",
    "model = model.to(device) "
   ]
  },
  {
   "cell_type": "code",
   "execution_count": 21,
   "metadata": {},
   "outputs": [],
   "source": [
    "batch_size = 16\n",
    "train_dataloader = DataLoader(train_dataset, batch_size=batch_size, shuffle=True)\n",
    "test_dataloader = DataLoader(test_dataset, batch_size=batch_size, shuffle=False)"
   ]
  },
  {
   "cell_type": "code",
   "execution_count": 22,
   "metadata": {},
   "outputs": [
    {
     "name": "stderr",
     "output_type": "stream",
     "text": [
      "c:\\Users\\Effy\\PycharmProjects\\uni\\aidl_cs01_nlp\\.venv\\lib\\site-packages\\transformers\\optimization.py:306: FutureWarning: This implementation of AdamW is deprecated and will be removed in a future version. Use the PyTorch implementation torch.optim.AdamW instead, or set `no_deprecation_warning=True` to disable this warning\n",
      "  warnings.warn(\n"
     ]
    },
    {
     "name": "stdout",
     "output_type": "stream",
     "text": [
      "Epoch [100/100]\t, Step: [222/225], Loss: 0.0005"
     ]
    }
   ],
   "source": [
    "optimizer = AdamW(model.parameters(), lr=0.00001)\n",
    "num_epochs = 100\n",
    "\n",
    "num_training_steps = num_epochs * len(train_dataloader)\n",
    "lr_scheduler = get_scheduler(\n",
    "    \"linear\",\n",
    "    optimizer=optimizer,\n",
    "    num_warmup_steps=0,\n",
    "    num_training_steps=num_training_steps,\n",
    ")\n",
    "criterion = nn.CrossEntropyLoss()\n",
    "model.train()\n",
    "losses = []\n",
    "n_total_steps = len(train_dataloader)\n",
    "for epoch in range(num_epochs):\n",
    "    for i, (inputs, labels) in enumerate(train_dataloader):\n",
    "        inputs = inputs.to(device)\n",
    "        labels = labels.to(device)\n",
    "        outputs = model(inputs)\n",
    "        loss = criterion(outputs.logits, labels.long())\n",
    "        loss.backward()\n",
    "\n",
    "        optimizer.step()\n",
    "        lr_scheduler.step()\n",
    "        optimizer.zero_grad()\n",
    "\n",
    "        if (i+1) % 6 == 0:\n",
    "            print('\\rEpoch [{}/{}]\\t, Step: [{}/{}], Loss: {:.4f}'.format(epoch+1, 100, i+1, n_total_steps, loss.item()), end=\"\")\n",
    "        \n",
    "        # Save the loss\n",
    "        losses.append(loss.item())"
   ]
  },
  {
   "cell_type": "code",
   "execution_count": 23,
   "metadata": {},
   "outputs": [
    {
     "name": "stdout",
     "output_type": "stream",
     "text": [
      " Test F1 Score: 0.8356\n"
     ]
    }
   ],
   "source": [
    "# F1 score\n",
    "# Evaluate the model on the test data\n",
    "y_true = []\n",
    "y_pred = []\n",
    "model.eval()\n",
    "with torch.no_grad():\n",
    "    for inputs, labels in test_dataloader:\n",
    "        inputs = inputs.to(device)\n",
    "        outputs = model(inputs)\n",
    "        _, predicted = torch.max(outputs.logits, 1)\n",
    "        y_true.extend(labels.tolist())\n",
    "        y_pred.extend(predicted.tolist())\n",
    "f1 = f1_score(y_true, y_pred, average='macro')\n",
    "print(' Test F1 Score: {:.4f}'.format(f1))"
   ]
  },
  {
   "cell_type": "code",
   "execution_count": 24,
   "metadata": {},
   "outputs": [
    {
     "data": {
      "image/png": "[encoded data removed]",
      "text/plain": [
       "<Figure size 1500x1500 with 2 Axes>"
      ]
     },
     "metadata": {},
     "output_type": "display_data"
    }
   ],
   "source": [
    "class_names = list(label_id_to_intent.values())\n",
    "cm = confusion_matrix(y_true = y_true, y_pred = y_pred)\n",
    "disp = ConfusionMatrixDisplay(confusion_matrix=cm, display_labels=class_names)\n",
    "fig, ax = plt.subplots(figsize=(15,15))\n",
    "disp.plot(ax=ax)\n",
    "plt.show()"
   ]
  },
  {
   "attachments": {},
   "cell_type": "markdown",
   "metadata": {},
   "source": [
    "# Helper Functions for Answers"
   ]
  },
  {
   "cell_type": "code",
   "execution_count": 44,
   "metadata": {},
   "outputs": [],
   "source": [
    "def get_answer_from_LSTM(my_quest, my_model):\n",
    "    my_question = pd.Series([my_quest]) \n",
    "    stop_words = stopwords.words('english')\n",
    "    def preprocess(text):\n",
    "        text = nltk.word_tokenize(text.lower())            \n",
    "        text = [w for w in text if not w in stop_words]     \n",
    "        text = (\" \").join(text)                             \n",
    "        text = re.sub(r'[^a-z0-9A-Z_]',' ',text)           \n",
    "        text = re.sub(r\"\\s+\", r\" \", text).strip()          \n",
    "        return text\n",
    "\n",
    "    def sentence_to_int(text): \n",
    "        text = nltk.word_tokenize(text.lower())\n",
    "        ints = [word_2_index['SOS']]\n",
    "        for word in text:\n",
    "            if word in word_2_index:\n",
    "                ints.append(word_2_index[word])\n",
    "            else:\n",
    "                ints.append(word_2_index['UNK'])\n",
    "        return ints\n",
    "\n",
    "    def remove_and_pad(text):\n",
    "        length = len(text)\n",
    "        if length >= 7:\n",
    "            text = text[:7]\n",
    "            text.append(word_2_index['EOS'])\n",
    "        else:\n",
    "            text.append(word_2_index['EOS'])\n",
    "            diff = 7-length\n",
    "            for _ in range(diff):\n",
    "                text.append(word_2_index['PAD'])\n",
    "        return text \n",
    "        \n",
    "    my_question = my_question.apply(preprocess)\n",
    "    my_question = my_question.apply(sentence_to_int)\n",
    "    my_question = my_question.apply(remove_and_pad)\n",
    "    my_model.eval()\n",
    "    with torch.no_grad():\n",
    "        train = np.zeros((1, 8))\n",
    "        train[0,:] = my_question[0]\n",
    "        input = torch.from_numpy(train).to(torch.float32)\n",
    "        print(input)\n",
    "        print(input.size())\n",
    "        print(input.reshape(1,-1))\n",
    "        print(input.reshape(1,-1).size())\n",
    "        outputs = my_model(input.reshape(1,-1))\n",
    "        _, predicted = torch.max(outputs, 1)\n",
    "        answer = label_id_to_intent[predicted.item()]\n",
    "        print(answer)\n",
    "        answer = intents_to_links[answer]\n",
    "    return answer "
   ]
  },
  {
   "cell_type": "code",
   "execution_count": 45,
   "metadata": {},
   "outputs": [],
   "source": [
    "def get_answer_transformers(my_question, mod):\n",
    "    my_question = encode(my_question)\n",
    "    mod.eval()\n",
    "    with torch.no_grad():\n",
    "        train = np.zeros((1, 20))\n",
    "        train[0,:] = my_question\n",
    "        input = torch.from_numpy(train).to(torch.float32)\n",
    "        input = input.to(device)\n",
    "        outputs = mod(input.long())\n",
    "        _, predicted = torch.max(outputs.logits, 1)\n",
    "        answer = label_id_to_intent[predicted.item()]\n",
    "        print(answer)\n",
    "        answer = intents_to_links[answer]\n",
    "    return answer "
   ]
  },
  {
   "attachments": {},
   "cell_type": "markdown",
   "metadata": {},
   "source": [
    "# Get Answers From Models"
   ]
  },
  {
   "cell_type": "code",
   "execution_count": 46,
   "metadata": {},
   "outputs": [
    {
     "name": "stdout",
     "output_type": "stream",
     "text": [
      "tensor([[ 0., 52., 20.,  1.,  3.,  3.,  3.,  3.]])\n",
      "torch.Size([1, 8])\n",
      "tensor([[ 0., 52., 20.,  1.,  3.,  3.,  3.,  3.]])\n",
      "torch.Size([1, 8])\n",
      "Registry\n"
     ]
    },
    {
     "data": {
      "text/plain": [
       "'https://aidl.uniwa.gr/student-registry/'"
      ]
     },
     "execution_count": 46,
     "metadata": {},
     "output_type": "execute_result"
    }
   ],
   "source": [
    "get_answer_from_LSTM('Where can I find courses', model_LSTM) "
   ]
  },
  {
   "cell_type": "code",
   "execution_count": 28,
   "metadata": {},
   "outputs": [
    {
     "name": "stdout",
     "output_type": "stream",
     "text": [
      "Registry\n"
     ]
    },
    {
     "data": {
      "text/plain": [
       "'https://aidl.uniwa.gr/student-registry/'"
      ]
     },
     "execution_count": 28,
     "metadata": {},
     "output_type": "execute_result"
    }
   ],
   "source": [
    "get_answer_transformers('Where can I find courses', model) "
   ]
  },
  {
   "cell_type": "code",
   "execution_count": 29,
   "metadata": {},
   "outputs": [
    {
     "name": "stdout",
     "output_type": "stream",
     "text": [
      "Irrelevant\n"
     ]
    },
    {
     "data": {
      "text/plain": [
       "'https://aidl.uniwa.gr/'"
      ]
     },
     "execution_count": 29,
     "metadata": {},
     "output_type": "execute_result"
    }
   ],
   "source": [
    "get_answer_transformers('c o u r s e', model) "
   ]
  },
  {
   "cell_type": "code",
   "execution_count": null,
   "metadata": {},
   "outputs": [],
   "source": []
  }
 ],
 "metadata": {
  "kernelspec": {
   "display_name": ".venv",
   "language": "python",
   "name": "python3"
  },
  "language_info": {
   "codemirror_mode": {
    "name": "ipython",
    "version": 3
   },
   "file_extension": ".py",
   "mimetype": "text/x-python",
   "name": "python",
   "nbconvert_exporter": "python",
   "pygments_lexer": "ipython3",
   "version": "3.11.4"
  },
  "orig_nbformat": 4,
  "vscode": {
   "interpreter": {
    "hash": "3921045a45724f678a98122731953c367597536b1cf1e071815bce452df6b48f"
   }
  }
 },
 "nbformat": 4,
 "nbformat_minor": 2
}
